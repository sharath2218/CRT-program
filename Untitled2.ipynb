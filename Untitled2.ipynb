{
  "nbformat": 4,
  "nbformat_minor": 0,
  "metadata": {
    "colab": {
      "name": "Untitled2.ipynb",
      "provenance": [],
      "include_colab_link": true
    },
    "kernelspec": {
      "name": "python3",
      "display_name": "Python 3"
    }
  },
  "cells": [
    {
      "cell_type": "markdown",
      "metadata": {
        "id": "view-in-github",
        "colab_type": "text"
      },
      "source": [
        "<a href=\"https://colab.research.google.com/github/sharath2218/CRT-program/blob/master/Untitled2.ipynb\" target=\"_parent\"><img src=\"https://colab.research.google.com/assets/colab-badge.svg\" alt=\"Open In Colab\"/></a>"
      ]
    },
    {
      "cell_type": "code",
      "metadata": {
        "id": "PkNV8_mYOEDb",
        "colab_type": "code",
        "colab": {
          "base_uri": "https://localhost:8080/",
          "height": 34
        },
        "outputId": "8bae7991-ca02-4d93-da6d-0d0c2888273f"
      },
      "source": [
        "li=[1,9,16,25,5]\n",
        "li.append(29)\n",
        "li"
      ],
      "execution_count": 1,
      "outputs": [
        {
          "output_type": "execute_result",
          "data": {
            "text/plain": [
              "[1, 9, 16, 25, 5, 29]"
            ]
          },
          "metadata": {
            "tags": []
          },
          "execution_count": 1
        }
      ]
    },
    {
      "cell_type": "code",
      "metadata": {
        "id": "x7jkZPB8QNhj",
        "colab_type": "code",
        "colab": {
          "base_uri": "https://localhost:8080/",
          "height": 34
        },
        "outputId": "27a06953-aaf0-41c5-aa88-0654f0cb3efa"
      },
      "source": [
        "li=[1,9,16,25,]\n",
        "li.append(29)\n",
        "li.insert(2,56)\n",
        "li"
      ],
      "execution_count": 3,
      "outputs": [
        {
          "output_type": "execute_result",
          "data": {
            "text/plain": [
              "[1, 9, 56, 16, 25, 29]"
            ]
          },
          "metadata": {
            "tags": []
          },
          "execution_count": 3
        }
      ]
    },
    {
      "cell_type": "code",
      "metadata": {
        "id": "qflTgzy1U5LB",
        "colab_type": "code",
        "colab": {}
      },
      "source": [
        ""
      ],
      "execution_count": 0,
      "outputs": []
    },
    {
      "cell_type": "code",
      "metadata": {
        "id": "VcIxxGGgQTLu",
        "colab_type": "code",
        "colab": {
          "base_uri": "https://localhost:8080/",
          "height": 34
        },
        "outputId": "fa5bec10-8b31-4852-e590-838bb4021d02"
      },
      "source": [
        "li=[1,9,9,23,5]\n",
        "li.count(9)"
      ],
      "execution_count": 4,
      "outputs": [
        {
          "output_type": "execute_result",
          "data": {
            "text/plain": [
              "2"
            ]
          },
          "metadata": {
            "tags": []
          },
          "execution_count": 4
        }
      ]
    },
    {
      "cell_type": "code",
      "metadata": {
        "id": "GKpWFHEURv2B",
        "colab_type": "code",
        "colab": {
          "base_uri": "https://localhost:8080/",
          "height": 34
        },
        "outputId": "f2333bd4-f9ea-43f5-eb41-f989f91baddb"
      },
      "source": [
        "li=[1,9,16,6,5,25]\n",
        "li[1:5]"
      ],
      "execution_count": 25,
      "outputs": [
        {
          "output_type": "execute_result",
          "data": {
            "text/plain": [
              "[9, 16, 6, 5]"
            ]
          },
          "metadata": {
            "tags": []
          },
          "execution_count": 25
        }
      ]
    },
    {
      "cell_type": "code",
      "metadata": {
        "id": "xvhoQ3dgSRcq",
        "colab_type": "code",
        "colab": {
          "base_uri": "https://localhost:8080/",
          "height": 34
        },
        "outputId": "b93e40ef-4782-4319-928e-50c5acef1c6a"
      },
      "source": [
        "li=[1,9,45,23,16]\n",
        "li.pop(1)\n",
        "li"
      ],
      "execution_count": 7,
      "outputs": [
        {
          "output_type": "execute_result",
          "data": {
            "text/plain": [
              "[1, 45, 23, 16]"
            ]
          },
          "metadata": {
            "tags": []
          },
          "execution_count": 7
        }
      ]
    },
    {
      "cell_type": "code",
      "metadata": {
        "id": "RnlxmgccS6Ow",
        "colab_type": "code",
        "colab": {
          "base_uri": "https://localhost:8080/",
          "height": 34
        },
        "outputId": "1cffb944-6192-4833-d47e-80946295ded3"
      },
      "source": [
        "li1=[1,6,18,29]\n",
        "li.extend(li1)\n",
        "li\n"
      ],
      "execution_count": 8,
      "outputs": [
        {
          "output_type": "execute_result",
          "data": {
            "text/plain": [
              "[1, 45, 23, 16, 1, 6, 18, 29]"
            ]
          },
          "metadata": {
            "tags": []
          },
          "execution_count": 8
        }
      ]
    },
    {
      "cell_type": "markdown",
      "metadata": {
        "id": "m9vkq9QFcy0V",
        "colab_type": "text"
      },
      "source": [
        ""
      ]
    },
    {
      "cell_type": "code",
      "metadata": {
        "id": "0ro4PjlcUcB5",
        "colab_type": "code",
        "colab": {
          "base_uri": "https://localhost:8080/",
          "height": 34
        },
        "outputId": "03841d59-c7f7-4967-fb68-0ef295addaab"
      },
      "source": [
        "li1=[1,5,9,28,4]\n",
        "li1.reverse()\n",
        "li1.reverse()\n",
        "li1 \n",
        "\n",
        "\n"
      ],
      "execution_count": 14,
      "outputs": [
        {
          "output_type": "execute_result",
          "data": {
            "text/plain": [
              "[1, 5, 9, 28, 4]"
            ]
          },
          "metadata": {
            "tags": []
          },
          "execution_count": 14
        }
      ]
    },
    {
      "cell_type": "code",
      "metadata": {
        "id": "7LPm_NwqVyng",
        "colab_type": "code",
        "colab": {
          "base_uri": "https://localhost:8080/",
          "height": 51
        },
        "outputId": "f9113bb1-6514-4ce4-b285-777acbf543ad"
      },
      "source": [
        "def largeNumber(li):\n",
        "    li.sort()\n",
        "    return li[-1]\n",
        "def genericLarge(li,n):\n",
        "    li.sort()\n",
        "    return li[-n]\n",
        "li=[1,9,24,5,21]\n",
        "print(largeNumber(li))\n",
        "print(genericLarge(li,3))"
      ],
      "execution_count": 19,
      "outputs": [
        {
          "output_type": "stream",
          "text": [
            "24\n",
            "9\n"
          ],
          "name": "stdout"
        }
      ]
    },
    {
      "cell_type": "code",
      "metadata": {
        "id": "75dzG0ZGYp3k",
        "colab_type": "code",
        "colab": {
          "base_uri": "https://localhost:8080/",
          "height": 51
        },
        "outputId": "deb5578e-a63a-4ce9-e3d7-e1067bd35a17"
      },
      "source": [
        "def smallNumber(li):\n",
        "    li.sort()\n",
        "    return li[0]\n",
        "def genericSmall(li,n):\n",
        "    li.sort()\n",
        "    return li[n-1]\n",
        "li=[1,5,9,45,67,7]\n",
        "print(smallNumber(li))\n",
        "print(genericSmall(li,2))"
      ],
      "execution_count": 24,
      "outputs": [
        {
          "output_type": "stream",
          "text": [
            "1\n",
            "5\n"
          ],
          "name": "stdout"
        }
      ]
    },
    {
      "cell_type": "markdown",
      "metadata": {
        "id": "Xz9fD_DIc715",
        "colab_type": "text"
      },
      "source": [
        "### Tuples\n",
        "-parenthesis() ----.tuple and square backets[]---->list\n",
        "-difference betweeen tuple and list\n",
        "  -list are mutable-can be changed/modified.\n",
        "  -used to access and modify,add,delete data\n",
        "  -tuples are unmutable-cannot be changed\n",
        "  -used to access data only."
      ]
    },
    {
      "cell_type": "markdown",
      "metadata": {
        "id": "jlbpB7GcgOZB",
        "colab_type": "text"
      },
      "source": [
        "###Dictionaries\n",
        "1.it works on the concept of set unique data\n",
        "2.keys,values is the unique identifier for the value.\n",
        "3.each key is separated from its values with comma\n",
        " "
      ]
    },
    {
      "cell_type": "code",
      "metadata": {
        "id": "XSPIhQU1hM85",
        "colab_type": "code",
        "colab": {
          "base_uri": "https://localhost:8080/",
          "height": 34
        },
        "outputId": "62244836-cc58-4f14-c6a7-1bd482d14510"
      },
      "source": [
        "d1={\"name\":\"gitam\",\"email id\":\"gitampyThon@gmail.com\",\"address\":\"hyderabad\"}\n",
        "d1[\"email id\"]=\"gitampython@gmail.com\"\n",
        "d1"
      ],
      "execution_count": 27,
      "outputs": [
        {
          "output_type": "execute_result",
          "data": {
            "text/plain": [
              "{'address': 'hyderabad', 'email id': 'gitampython@gmail.com', 'name': 'gitam'}"
            ]
          },
          "metadata": {
            "tags": []
          },
          "execution_count": 27
        }
      ]
    },
    {
      "cell_type": "code",
      "metadata": {
        "id": "hE39JIXykRBZ",
        "colab_type": "code",
        "colab": {
          "base_uri": "https://localhost:8080/",
          "height": 34
        },
        "outputId": "8693350e-efaa-45dc-e097-330bef56a80e"
      },
      "source": [
        "d1={'Name':'gitam','address':'hyderabad','course':'python'}\n",
        "d1.keys()\n",
        "# d1_keys(['name','address','course'])\n",
        "# d1.values()\n",
        "# dict_values(['gitam','hyderabad','python'])"
      ],
      "execution_count": 34,
      "outputs": [
        {
          "output_type": "execute_result",
          "data": {
            "text/plain": [
              "dict_keys(['Name', 'address', 'course'])"
            ]
          },
          "metadata": {
            "tags": []
          },
          "execution_count": 34
        }
      ]
    },
    {
      "cell_type": "markdown",
      "metadata": {
        "id": "LFJtP_Xemnn6",
        "colab_type": "text"
      },
      "source": [
        "###strings:\n"
      ]
    },
    {
      "cell_type": "code",
      "metadata": {
        "id": "ukYWgrCEmw3K",
        "colab_type": "code",
        "colab": {
          "base_uri": "https://localhost:8080/",
          "height": 51
        },
        "outputId": "e3701038-c0dd-444f-8aa4-2b3e153f9c03"
      },
      "source": [
        "s1='python'\n",
        "print(s1)\n",
        "print(type(s1))"
      ],
      "execution_count": 35,
      "outputs": [
        {
          "output_type": "stream",
          "text": [
            "python\n",
            "<class 'str'>\n"
          ],
          "name": "stdout"
        }
      ]
    },
    {
      "cell_type": "code",
      "metadata": {
        "id": "cQd07b5inh76",
        "colab_type": "code",
        "colab": {
          "base_uri": "https://localhost:8080/",
          "height": 68
        },
        "outputId": "4a39bc13-a8ba-4c6c-fa73-13a6fc5f63c5"
      },
      "source": [
        "s1='python'\n",
        "print(s1[0])\n",
        "print(s1[1])\n",
        "print(s1[len(s1)-1])"
      ],
      "execution_count": 36,
      "outputs": [
        {
          "output_type": "stream",
          "text": [
            "p\n",
            "y\n",
            "n\n"
          ],
          "name": "stdout"
        }
      ]
    },
    {
      "cell_type": "code",
      "metadata": {
        "id": "S1DGyUe3o_ta",
        "colab_type": "code",
        "colab": {
          "base_uri": "https://localhost:8080/",
          "height": 34
        },
        "outputId": "0b0bb39f-052e-458d-d9f2-f0da753d187f"
      },
      "source": [
        "print(s1[1:-1]) "
      ],
      "execution_count": 39,
      "outputs": [
        {
          "output_type": "stream",
          "text": [
            "ytho\n"
          ],
          "name": "stdout"
        }
      ]
    },
    {
      "cell_type": "markdown",
      "metadata": {
        "id": "fRrPF2Peye3k",
        "colab_type": "text"
      },
      "source": [
        "###string methods:\n",
        "-join()\n",
        "-split()\n",
        "-replace()"
      ]
    },
    {
      "cell_type": "code",
      "metadata": {
        "id": "7bHmjL45zO3K",
        "colab_type": "code",
        "colab": {
          "base_uri": "https://localhost:8080/",
          "height": 34
        },
        "outputId": "283ffddb-7374-4b08-ba9d-850d7d22b66d"
      },
      "source": [
        "s1='python'\n",
        "print(\" \".join(s1))"
      ],
      "execution_count": 44,
      "outputs": [
        {
          "output_type": "stream",
          "text": [
            "p y t h o n\n"
          ],
          "name": "stdout"
        }
      ]
    },
    {
      "cell_type": "code",
      "metadata": {
        "id": "maoJTqizz8ma",
        "colab_type": "code",
        "colab": {
          "base_uri": "https://localhost:8080/",
          "height": 34
        },
        "outputId": "7ba70a7c-6f68-43d8-acc8-269fe6898e27"
      },
      "source": [
        "s2=\"python programming easy to learn\"\n",
        "print(s2.split('a'))"
      ],
      "execution_count": 45,
      "outputs": [
        {
          "output_type": "stream",
          "text": [
            "['python progr', 'mming e', 'sy to le', 'rn']\n"
          ],
          "name": "stdout"
        }
      ]
    },
    {
      "cell_type": "code",
      "metadata": {
        "id": "pGjSd2CO0jZ7",
        "colab_type": "code",
        "colab": {
          "base_uri": "https://localhost:8080/",
          "height": 54
        },
        "outputId": "43d1a8a4-6893-49a1-80a2-7b2de63985e7"
      },
      "source": [
        "s2=\"python programming is easy to learn\"\n",
        "li=list(s2)\n",
        "print(li)"
      ],
      "execution_count": 46,
      "outputs": [
        {
          "output_type": "stream",
          "text": [
            "['p', 'y', 't', 'h', 'o', 'n', ' ', 'p', 'r', 'o', 'g', 'r', 'a', 'm', 'm', 'i', 'n', 'g', ' ', 'i', 's', ' ', 'e', 'a', 's', 'y', ' ', 't', 'o', ' ', 'l', 'e', 'a', 'r', 'n']\n"
          ],
          "name": "stdout"
        }
      ]
    },
    {
      "cell_type": "code",
      "metadata": {
        "id": "euDRDFio01eO",
        "colab_type": "code",
        "colab": {
          "base_uri": "https://localhost:8080/",
          "height": 34
        },
        "outputId": "c9f95e48-f1a3-42ff-f4ac-c31d459e274b"
      },
      "source": [
        "s2=\"python programming is easy to learn\"\n",
        "print(s2.replace(\"gra\",\"Application\"))"
      ],
      "execution_count": 50,
      "outputs": [
        {
          "output_type": "stream",
          "text": [
            "python proApplicationmming is easy to learn\n"
          ],
          "name": "stdout"
        }
      ]
    },
    {
      "cell_type": "code",
      "metadata": {
        "id": "XaNj_nB4zpL6",
        "colab_type": "code",
        "colab": {}
      },
      "source": [
        "+"
      ],
      "execution_count": 0,
      "outputs": []
    }
  ]
}