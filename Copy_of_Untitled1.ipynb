{
  "nbformat": 4,
  "nbformat_minor": 0,
  "metadata": {
    "colab": {
      "name": "Copy of Untitled1.ipynb",
      "provenance": [],
      "include_colab_link": true
    },
    "kernelspec": {
      "name": "python3",
      "display_name": "Python 3"
    }
  },
  "cells": [
    {
      "cell_type": "markdown",
      "metadata": {
        "id": "view-in-github",
        "colab_type": "text"
      },
      "source": [
        "<a href=\"https://colab.research.google.com/github/sharath2218/CRT-program/blob/master/Copy_of_Untitled1.ipynb\" target=\"_parent\"><img src=\"https://colab.research.google.com/assets/colab-badge.svg\" alt=\"Open In Colab\"/></a>"
      ]
    },
    {
      "cell_type": "code",
      "metadata": {
        "id": "GrklUrmECW3g",
        "colab_type": "code",
        "outputId": "d136b59b-d8c8-4140-b8af-f95da924fad8",
        "colab": {
          "base_uri": "https://localhost:8080/",
          "height": 34
        }
      },
      "source": [
        "def evendigitsum(n):\n",
        "  s=0\n",
        "  while n!=0:\n",
        "    r=n%10\n",
        "    if r%2==0:\n",
        "      s=s+r\n",
        "    n=n//10\n",
        "  return s\n",
        "evendigitsum(1234)\n",
        "\n",
        "            \n"
      ],
      "execution_count": 0,
      "outputs": [
        {
          "output_type": "execute_result",
          "data": {
            "text/plain": [
              "6"
            ]
          },
          "metadata": {
            "tags": []
          },
          "execution_count": 10
        }
      ]
    },
    {
      "cell_type": "code",
      "metadata": {
        "id": "so6psnmQFa1g",
        "colab_type": "code",
        "outputId": "dd3a0ad2-b7d5-4c53-e10f-67658213ec01",
        "colab": {
          "base_uri": "https://localhost:8080/",
          "height": 51
        }
      },
      "source": [
        "def square(x):\n",
        "    print(x*x)\n",
        "print(square(4))\n"
      ],
      "execution_count": 0,
      "outputs": [
        {
          "output_type": "stream",
          "text": [
            "16\n",
            "None\n"
          ],
          "name": "stdout"
        }
      ]
    },
    {
      "cell_type": "code",
      "metadata": {
        "id": "ZyfpQIJnJS5X",
        "colab_type": "code",
        "outputId": "7f52511f-5f12-414c-a555-6714a8d5adbb",
        "colab": {
          "base_uri": "https://localhost:8080/",
          "height": 51
        }
      },
      "source": [
        "def cube(x):\n",
        "    print(x*x*x)\n",
        "print(cube(3))"
      ],
      "execution_count": 0,
      "outputs": [
        {
          "output_type": "stream",
          "text": [
            "27\n",
            "None\n"
          ],
          "name": "stdout"
        }
      ]
    },
    {
      "cell_type": "code",
      "metadata": {
        "id": "TXOiJzfOKFjF",
        "colab_type": "code",
        "outputId": "5bacd610-d61d-488f-e447-b638b89c44de",
        "colab": {
          "base_uri": "https://localhost:8080/",
          "height": 34
        }
      },
      "source": [
        "def square(x):\n",
        "    return x*x\n",
        "square(3)"
      ],
      "execution_count": 0,
      "outputs": [
        {
          "output_type": "execute_result",
          "data": {
            "text/plain": [
              "9"
            ]
          },
          "metadata": {
            "tags": []
          },
          "execution_count": 13
        }
      ]
    },
    {
      "cell_type": "code",
      "metadata": {
        "id": "VAgk0a--KZUX",
        "colab_type": "code",
        "outputId": "b87a5b04-69e8-4c30-b0b1-86e141b9683a",
        "colab": {
          "base_uri": "https://localhost:8080/",
          "height": 34
        }
      },
      "source": [
        "def cube(x):\n",
        "    return x*x*x\n",
        "cube(3)"
      ],
      "execution_count": 0,
      "outputs": [
        {
          "output_type": "execute_result",
          "data": {
            "text/plain": [
              "27"
            ]
          },
          "metadata": {
            "tags": []
          },
          "execution_count": 14
        }
      ]
    },
    {
      "cell_type": "code",
      "metadata": {
        "id": "egiQnH85LFNV",
        "colab_type": "code",
        "outputId": "caa7c957-9903-475e-acb3-31f6bf5cca6d",
        "colab": {
          "base_uri": "https://localhost:8080/",
          "height": 68
        }
      },
      "source": [
        "def multiply(x,y):\n",
        "    print(\"value of x=\",x)\n",
        "    print(\"value of y=\",y)\n",
        "    return(x*y)\n",
        "print(multiply(y=2,x=4))"
      ],
      "execution_count": 0,
      "outputs": [
        {
          "output_type": "stream",
          "text": [
            "value of x= 4\n",
            "value of y= 2\n",
            "8\n"
          ],
          "name": "stdout"
        }
      ]
    },
    {
      "cell_type": "code",
      "metadata": {
        "id": "JrX20zsJM2Rf",
        "colab_type": "code",
        "outputId": "8c95dc02-4403-42b9-c955-516390c56aaf",
        "colab": {
          "base_uri": "https://localhost:8080/",
          "height": 34
        }
      },
      "source": [
        "def swap(x,y):\n",
        "    temp=x\n",
        "    x=y\n",
        "    y=temp\n",
        "    return x,y\n",
        "print(swap(2,3))\n"
      ],
      "execution_count": 0,
      "outputs": [
        {
          "output_type": "stream",
          "text": [
            "(3, 2)\n"
          ],
          "name": "stdout"
        }
      ]
    },
    {
      "cell_type": "code",
      "metadata": {
        "id": "G-7kh1bdPCet",
        "colab_type": "code",
        "outputId": "4dc78aa3-e4c9-4116-f9fd-44929146682d",
        "colab": {
          "base_uri": "https://localhost:8080/",
          "height": 34
        }
      },
      "source": [
        "def largedigit(n):\n",
        "    large=0\n",
        "    while n!=0:\n",
        "        r=n%10\n",
        "        if large<r:\n",
        "            large=r\n",
        "        n=n//10\n",
        "    return large\n",
        "largedigit(19535)"
      ],
      "execution_count": 0,
      "outputs": [
        {
          "output_type": "execute_result",
          "data": {
            "text/plain": [
              "9"
            ]
          },
          "metadata": {
            "tags": []
          },
          "execution_count": 21
        }
      ]
    },
    {
      "cell_type": "code",
      "metadata": {
        "id": "X1jItwMDUg0s",
        "colab_type": "code",
        "outputId": "f0165a91-f068-46ac-addb-678059e0719a",
        "colab": {
          "base_uri": "https://localhost:8080/",
          "height": 34
        }
      },
      "source": [
        "def printseries(lb,ub):\n",
        "    for x in range(lb,ub+1):\n",
        "        print(x,end=' ')\n",
        "    return\n",
        "printseries(1,10)"
      ],
      "execution_count": 0,
      "outputs": [
        {
          "output_type": "stream",
          "text": [
            "1 2 3 4 5 6 7 8 9 10 "
          ],
          "name": "stdout"
        }
      ]
    },
    {
      "cell_type": "code",
      "metadata": {
        "id": "ClV88ecQZeuY",
        "colab_type": "code",
        "outputId": "6c47e703-d3df-4ffb-940a-75aea08643f2",
        "colab": {
          "base_uri": "https://localhost:8080/",
          "height": 51
        }
      },
      "source": [
        "li=['gitam',1234,'hyd']\n",
        "print(li)\n",
        "li[1]=456\n",
        "print(li)"
      ],
      "execution_count": 0,
      "outputs": [
        {
          "output_type": "stream",
          "text": [
            "['gitam', 1234, 'hyd']\n",
            "['gitam', 456, 'hyd']\n"
          ],
          "name": "stdout"
        }
      ]
    },
    {
      "cell_type": "code",
      "metadata": {
        "id": "hW1GX8AVd2Y1",
        "colab_type": "code",
        "outputId": "5aa3b5d1-800d-4ec9-8eca-0d20ace0f24e",
        "colab": {
          "base_uri": "https://localhost:8080/",
          "height": 51
        }
      },
      "source": [
        "li=['gitam',1234,2018,2019,'hyd']\n",
        "print(li)\n",
        "del li[3]\n",
        "print(li)"
      ],
      "execution_count": 0,
      "outputs": [
        {
          "output_type": "stream",
          "text": [
            "['gitam', 1234, 2018, 2019, 'hyd']\n",
            "['gitam', 1234, 2018, 'hyd']\n"
          ],
          "name": "stdout"
        }
      ]
    },
    {
      "cell_type": "code",
      "metadata": {
        "id": "3KliZ8Kdegin",
        "colab_type": "code",
        "colab": {}
      },
      "source": [
        "li=[1,2,3,4]\n"
      ],
      "execution_count": 0,
      "outputs": []
    },
    {
      "cell_type": "code",
      "metadata": {
        "id": "6Bws9_Y2eZJX",
        "colab_type": "code",
        "colab": {}
      },
      "source": [
        ""
      ],
      "execution_count": 0,
      "outputs": []
    },
    {
      "cell_type": "code",
      "metadata": {
        "id": "0UxKbzeqdehL",
        "colab_type": "code",
        "colab": {}
      },
      "source": [
        ""
      ],
      "execution_count": 0,
      "outputs": []
    }
  ]
}